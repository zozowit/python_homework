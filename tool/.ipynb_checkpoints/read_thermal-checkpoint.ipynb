{
 "cells": [
  {
   "cell_type": "code",
   "execution_count": 2,
   "metadata": {},
   "outputs": [
    {
     "name": "stdout",
     "output_type": "stream",
     "text": [
      "Android Debug Bridge version 1.0.32\n",
      "Revision 09a0d98bebce-android\n",
      "\n",
      "List of devices attached\n",
      "9ac04e6e\tdevice\n",
      "\n",
      "\n",
      "thermal_zone50 info:mdm-core-lowf\n",
      "40500\n",
      "\n",
      "thermal_zone51 info:camera-lowf\n",
      "40200\n",
      "\n",
      "thermal_zone52 info:wlan-lowf\n",
      "40800\n",
      "\n",
      "thermal_zone53 info:display-lowf\n",
      "40800\n",
      "\n",
      "thermal_zone54 info:video-lowf\n",
      "40800\n",
      "\n",
      "thermal_zone55 info:camera_flash-therm\n",
      "cat: sys/class/thermal/thermal_zone55/temp: Invalid argument\n",
      "\n",
      "thermal_zone56 info:quiet-therm-step\n",
      "cat: sys/class/thermal/thermal_zone56/temp: Invalid argument\n",
      "\n",
      "thermal_zone57 info:xo_therm\n",
      "36197\n",
      "\n",
      "thermal_zone58 info:sdm_therm\n",
      "36354\n",
      "\n",
      "thermal_zone59 info:conn_therm\n",
      "-40000\n",
      "\n",
      "thermal_zone60 info:msm_therm\n",
      "cat: sys/class/thermal/thermal_zone60/temp: Invalid argument\n",
      "\n",
      "thermal_zone61 info:pa_therm0\n",
      "cat: sys/class/thermal/thermal_zone61/temp: Invalid argument\n",
      "\n",
      "thermal_zone62 info:chg_therm\n",
      "36927\n",
      "\n",
      "thermal_zone63 info:quiet_therm\n",
      "cat: sys/class/thermal/thermal_zone63/temp: Invalid argument\n",
      "\n",
      "thermal_zone64 info:bms\n",
      "\u0000\n"
     ]
    }
   ],
   "source": [
    "import os\n",
    "\n",
    "print(os.popen('adb version').read())\n",
    "print(os.popen('adb devices').read())\n",
    "\n",
    "def read_thermal_zone(index):\n",
    "    patch = 'sys/class/thermal/thermal_zone' + index + '/'\n",
    "    t_type = os.popen('adb shell cat ' + patch + 'type').read()\n",
    "    t_temp = os.popen('adb shell cat ' + patch + 'temp').read()\n",
    "    \n",
    "    print(\"thermal_zone\"+index+\" info:\"+t_type+t_temp)\n",
    "    \n",
    "def main():\n",
    "    for index in range(50, 65):\n",
    "        read_thermal_zone(str(index))\n",
    "        \n",
    "    input('press any key to exit。。。')\n",
    "        \n",
    "if __name__ == \"__main__\":\n",
    "    main()\n",
    "    "
   ]
  },
  {
   "cell_type": "code",
   "execution_count": null,
   "metadata": {},
   "outputs": [],
   "source": []
  }
 ],
 "metadata": {
  "kernelspec": {
   "display_name": "Python 3",
   "language": "python",
   "name": "python3"
  },
  "language_info": {
   "codemirror_mode": {
    "name": "ipython",
    "version": 3
   },
   "file_extension": ".py",
   "mimetype": "text/x-python",
   "name": "python",
   "nbconvert_exporter": "python",
   "pygments_lexer": "ipython3",
   "version": "3.6.6"
  }
 },
 "nbformat": 4,
 "nbformat_minor": 2
}
